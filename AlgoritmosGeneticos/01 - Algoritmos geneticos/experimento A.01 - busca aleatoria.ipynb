{
 "cells": [
  {
   "cell_type": "markdown",
   "metadata": {},
   "source": [
    "Busca aleatória\n",
    "===============\n",
    "\n"
   ]
  },
  {
   "cell_type": "markdown",
   "metadata": {},
   "source": [
    "## Introdução\n",
    "\n"
   ]
  },
  {
   "cell_type": "markdown",
   "metadata": {},
   "source": [
    "Uma forma simples de se encontrar uma solução para um `problema de otimização` é realizando uma `busca aleatória`. A busca aleatória, como o próprio nome sugere, é um algoritmo onde um certo `espaço de busca` é definido de onde sorteamos `candidatos` de soluções para o problema.\n",
    "\n",
    "Diferentemente de outros algoritmos de otimização, a busca aleatória não requer que a `função objetivo` seja diferenciável nem contínua.\n",
    "\n",
    "Um algoritmo de busca aleatória segue os seguintes passos:\n",
    "\n",
    "1.  Um espaço de busca é definido\n",
    "\n",
    "2.  Um candidato $x$ dentro do espaço de busca é sorteado aleatoriamente\n",
    "\n",
    "3.  Calculamos o resultado da função objetivo para o candidato $x$\n",
    "\n",
    "4.  Se o critério de parada for atingido, encerrar o algoritmo e retornar ao usuário o candidato que teve melhor resultado durante a busca. Do contrário, retorne ao passo 2\n",
    "\n"
   ]
  },
  {
   "cell_type": "markdown",
   "metadata": {},
   "source": [
    "## Reflexões\n",
    "\n"
   ]
  },
  {
   "cell_type": "markdown",
   "metadata": {},
   "source": [
    "Você diria que o algoritmo de busca aleatória é determinístico ou probabilístico?\n",
    "\n",
    "Em quais problemas de otimização você acredita que este algoritmo seja uma boa escolha?\n",
    "\n",
    "Em quais problemas de otimização você acredita que este algoritmo seja uma má escolha?\n",
    "\n"
   ]
  },
  {
   "cell_type": "markdown",
   "metadata": {},
   "source": [
    "## Objetivo\n",
    "\n"
   ]
  },
  {
   "cell_type": "markdown",
   "metadata": {},
   "source": [
    "Encontrar uma solução para o problema das caixas binárias usando o algoritmo de busca aleatória. Considere 4 caixas.\n",
    "\n"
   ]
  },
  {
   "cell_type": "markdown",
   "metadata": {},
   "source": [
    "## Descrição do problema\n",
    "\n"
   ]
  },
  {
   "cell_type": "markdown",
   "metadata": {},
   "source": [
    "O problema das caixas binárias é simples: nós temos um certo número de caixas e cada uma pode conter um valor do conjunto $\\{0, 1\\}$. O objetivo é encontrar uma combinação de caixas onde a soma dos valores contidos dentro delas é máximo.\n",
    "\n",
    "Como todo problema computacional, um dos desafios é &ldquo;traduzir&rdquo; o problema dado em estruturas computacionais.\n",
    "\n"
   ]
  },
  {
   "cell_type": "markdown",
   "metadata": {},
   "source": [
    "## Importações\n",
    "\n"
   ]
  },
  {
   "cell_type": "code",
   "execution_count": 9,
   "metadata": {},
   "outputs": [],
   "source": [
    "import random"
   ]
  },
  {
   "cell_type": "markdown",
   "metadata": {},
   "source": [
    "## Códigos e discussão\n",
    "\n"
   ]
  },
  {
   "cell_type": "code",
   "execution_count": 10,
   "metadata": {},
   "outputs": [],
   "source": [
    "''' problema das caixas binárias '''\n",
    "#vou precisar de uma lista para representar o meu indivíduo\n",
    "#pode fazer também com dicionário, mas é mais trabalhoso \n",
    "#quantidade de elementos na lista é o número de genes\n",
    "#os genes são binários\n",
    "#para esse teste, iremos gerar os genes aleatóriamente\n",
    "\n",
    "def func_gene_cb():\n",
    "    ''' gera um gene válido para o problema das caixas binárias\n",
    "    \n",
    "    \n",
    "    return:\n",
    "        um valor 0 ou 1.\n",
    "    '''\n",
    "    lista = [0, 1]\n",
    "    gene = random.choice(lista)\n",
    "    return gene\n",
    "    \n",
    "def func_indv_cb(n):\n",
    "    ''' gera um indíviduo para o problema\n",
    "    \n",
    "    args:\n",
    "    n: numero de genes do indivíduo\n",
    "    \n",
    "    return:\n",
    "        uma lista com n genes. cada gene é um valor 0 ou 1\n",
    "    '''\n",
    "    indv = []\n",
    "    for i in range(n):\n",
    "        gene = func_gene_cb()\n",
    "        indv.append(gene)\n",
    "    return indv\n",
    "    \n",
    "def func_obj(indv):\n",
    "    ''' computa uma métrica do objetivo do problema\n",
    "    \n",
    "    args:\n",
    "    indv: uma lista que contém os genes, indivíduo\n",
    "    \n",
    "    return:\n",
    "        soma dos genes dos indivíduos\n",
    "    '''\n",
    "    return sum(indv)"
   ]
  },
  {
   "cell_type": "code",
   "execution_count": 11,
   "metadata": {},
   "outputs": [],
   "source": [
    "#constantes\n",
    "\n",
    "NUM_TESTES=8\n",
    "NUM_GENES=4\n"
   ]
  },
  {
   "cell_type": "code",
   "execution_count": 16,
   "metadata": {},
   "outputs": [
    {
     "name": "stdout",
     "output_type": "stream",
     "text": [
      "[0, 0, 1, 1] 2\n",
      "[1, 0, 1, 1] 3\n",
      "[1, 0, 1, 0] 2\n",
      "[0, 0, 1, 1] 2\n",
      "[1, 1, 0, 1] 3\n",
      "[0, 0, 1, 1] 2\n",
      "[1, 1, 1, 1] 4\n",
      "[0, 1, 1, 1] 3\n"
     ]
    }
   ],
   "source": [
    "#dicio = {}\n",
    "for n in range(NUM_TESTES):\n",
    "    candidato=func_indv_cb(NUM_GENES)\n",
    "    fobj = func_obj(candidato)\n",
    "    #dicio{}\n",
    "    print(candidato, fobj)"
   ]
  },
  {
   "cell_type": "markdown",
   "metadata": {},
   "source": [
    "## Conclusão\n",
    "\n",
    "Resolvemos o problema das caixas binárias (4 caixas) de forma probabilística.\n"
   ]
  },
  {
   "cell_type": "markdown",
   "metadata": {},
   "source": [
    "## Playground\n",
    "\n"
   ]
  },
  {
   "cell_type": "code",
   "execution_count": null,
   "metadata": {},
   "outputs": [],
   "source": []
  }
 ],
 "metadata": {
  "kernelspec": {
   "display_name": "ilumpy",
   "language": "python",
   "name": "ilumpy"
  },
  "language_info": {
   "codemirror_mode": {
    "name": "ipython",
    "version": 3
   },
   "file_extension": ".py",
   "mimetype": "text/x-python",
   "name": "python",
   "nbconvert_exporter": "python",
   "pygments_lexer": "ipython3",
   "version": "3.9.7"
  },
  "org": null
 },
 "nbformat": 4,
 "nbformat_minor": 4
}
