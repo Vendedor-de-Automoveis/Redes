{
 "cells": [
  {
   "cell_type": "code",
   "execution_count": 1,
   "id": "c394d431-f091-4af1-8b05-e6f1d8b78551",
   "metadata": {},
   "outputs": [
    {
     "name": "stdout",
     "output_type": "stream",
     "text": [
      "(255, 255, 255)\n",
      "(0, 0, 0)\n",
      "(255, 255, 255)\n"
     ]
    },
    {
     "data": {
      "image/png": "[encoded data removed]",
      "text/plain": [
       "<Figure size 432x288 with 1 Axes>"
      ]
     },
     "metadata": {
      "needs_background": "light"
     },
     "output_type": "display_data"
    }
   ],
   "source": [
    "# Importing Image from PIL package  \n",
    "from PIL import Image \n",
    "\n",
    "# creating a image object \n",
    "im = Image.open(r\"C:\\Users\\heitor220052\\Desktop\\\\Gráfico termo.png\") \n",
    "px = im.load() \n",
    "print (px[4, 4]) \n",
    "px[4, 4] = (0, 0, 0) \n",
    "print (px[4, 4]) \n",
    "cordinate = x, y = 150, 59\n",
    "\n",
    "# using getpixel method \n",
    "print (im.getpixel(cordinate))\n",
    "\n",
    "# now plot it\n",
    "import matplotlib.pyplot as plt\n",
    "plt.plot(px[x,y])\n",
    "plt.ylabel('some numbers')\n",
    "plt.show()"
   ]
  },
  {
   "cell_type": "code",
   "execution_count": 24,
   "id": "a2162aa8-908e-4280-b4b2-955942960a79",
   "metadata": {},
   "outputs": [],
   "source": [
    "def func_destila(Pc, Xc, Pt, Xt):\n",
    "\n",
    "    contador=0\n",
    "    print(Xc)\n",
    "    \n",
    "    while Xc <= 0.99:\n",
    "        Ptot = Pc*Xc + Pt*Xt\n",
    "        Xc= Pc*Xc/Ptot\n",
    "        Xt= Pt*Xt/Ptot\n",
    "        contador=contador+1\n",
    "        \n",
    "    return contador, Xc"
   ]
  },
  {
   "cell_type": "code",
   "execution_count": 25,
   "id": "c75799a8-cc36-47ff-94b7-669df65b838a",
   "metadata": {},
   "outputs": [
    {
     "name": "stdout",
     "output_type": "stream",
     "text": [
      "0.25\n"
     ]
    },
    {
     "data": {
      "text/plain": [
       "(5, 0.9969765748816409)"
      ]
     },
     "execution_count": 25,
     "metadata": {},
     "output_type": "execute_result"
    }
   ],
   "source": [
    "func_destila(1732, 0.25, 436, 0.75)"
   ]
  },
  {
   "cell_type": "code",
   "execution_count": null,
   "id": "564b9b30-6c86-493b-8212-675c36b574ef",
   "metadata": {},
   "outputs": [],
   "source": []
  }
 ],
 "metadata": {
  "kernelspec": {
   "display_name": "ilumpy",
   "language": "python",
   "name": "ilumpy"
  },
  "language_info": {
   "codemirror_mode": {
    "name": "ipython",
    "version": 3
   },
   "file_extension": ".py",
   "mimetype": "text/x-python",
   "name": "python",
   "nbconvert_exporter": "python",
   "pygments_lexer": "ipython3",
   "version": "3.9.7"
  }
 },
 "nbformat": 4,
 "nbformat_minor": 5
}
