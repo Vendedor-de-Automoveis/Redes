{
 "cells": [
  {
   "cell_type": "markdown",
   "metadata": {},
   "source": [
    "Problema das caixas não-binárias\n",
    "================================\n",
    "\n"
   ]
  },
  {
   "cell_type": "markdown",
   "metadata": {},
   "source": [
    "## Objetivo\n",
    "\n"
   ]
  },
  {
   "cell_type": "markdown",
   "metadata": {},
   "source": [
    "Encontrar uma solução para o problema das caixas não-binárias usando um algoritmo genético. Considere 4 caixas. Considere que cada caixa pode ter um valor inteiro dentro do conjunto [0, 100].\n",
    "\n"
   ]
  },
  {
   "cell_type": "markdown",
   "metadata": {},
   "source": [
    "## Descrição do problema\n",
    "\n"
   ]
  },
  {
   "cell_type": "markdown",
   "metadata": {},
   "source": [
    "O problema das caixas não-binárias é simples: nós temos um certo número de caixas e cada uma pode conter um número inteiro. O objetivo é encontrar uma combinação de caixas onde a soma dos valores contidos dentro delas é máximo.\n",
    "\n"
   ]
  },
  {
   "cell_type": "markdown",
   "metadata": {},
   "source": [
    "## Importações\n",
    "\n"
   ]
  },
  {
   "cell_type": "code",
   "execution_count": 1,
   "metadata": {},
   "outputs": [],
   "source": [
    "from funcoes import func_populacao_cnb\n",
    "from funcoes import func_objetivo_pop_cnb as func_objetivo_pop\n",
    "from funcoes import func_selecao_roleta_max as func_selecao\n",
    "from funcoes import func_cruzamento_ponto_simples as func_cruzamento\n",
    "from funcoes import func_mutacao_cnb\n",
    "import random"
   ]
  },
  {
   "cell_type": "markdown",
   "metadata": {},
   "source": [
    "## Códigos e discussão\n",
    "\n"
   ]
  },
  {
   "cell_type": "code",
   "execution_count": 2,
   "metadata": {},
   "outputs": [],
   "source": [
    "#constantes relacionadas à busca\n",
    "TAMANHO_POP = 6\n",
    "NUM_GERACOES = 1000\n",
    "CHANCE_CRUZAMENTO = 0.5\n",
    "CHANCE_MUTACAO = 0.05\n",
    "\n",
    "#relacionadas ao problema\n",
    "VALOR_MAX_CAIXA_CNB = 100\n",
    "NUM_GENES = 4"
   ]
  },
  {
   "cell_type": "code",
   "execution_count": 3,
   "metadata": {},
   "outputs": [],
   "source": [
    "# Funções Locais\n",
    "def cria_populacao_inicial(tamanho_pop, num_genes):\n",
    "    return func_populacao_cnb(tamanho_pop, num_genes, VALOR_MAX_CAIXA_CNB)\n",
    "                              \n",
    "def func_mutacao(indv):\n",
    "    return func_mutacao_cnb(indv, VALOR_MAX_CAIXA_CNB)"
   ]
  },
  {
   "cell_type": "code",
   "execution_count": 4,
   "metadata": {},
   "outputs": [
    {
     "name": "stdout",
     "output_type": "stream",
     "text": [
      "População Inicial\n",
      "[[6, 78, 98, 20], [12, 20, 95, 11], [99, 82, 26, 35], [13, 95, 56, 24], [66, 68, 58, 43], [50, 67, 63, 27]]\n",
      "\n",
      "População Selecionada\n",
      "[[99, 82, 98, 35], [6, 78, 26, 27], [66, 82, 26, 20], [57, 68, 63, 27], [50, 67, 63, 20], [50, 67, 63, 20]]\n"
     ]
    }
   ],
   "source": [
    "populacao = cria_populacao_inicial(TAMANHO_POP, NUM_GENES)\n",
    "\n",
    "print(\"População Inicial\")\n",
    "print(populacao)\n",
    "    \n",
    "for n in range(NUM_GENES):\n",
    "    fitness = func_objetivo_pop(populacao)\n",
    "    populacao = func_selecao(populacao, fitness)\n",
    "    \n",
    "    pais = populacao[0::2]\n",
    "    maes = populacao[1::2]\n",
    "    contador = 0\n",
    "    \n",
    "    for pai, mae in zip(pais, maes):\n",
    "        if random.random() <= CHANCE_CRUZAMENTO:\n",
    "            filho1, filho2 = func_cruzamento(pai, mae)\n",
    "            populacao[contador] = filho1\n",
    "            populacao[contador + 1] = filho2\n",
    "            \n",
    "        contador = contador + 2\n",
    "        \n",
    "    for indv in range(len(populacao)):\n",
    "        if random.random() <= CHANCE_MUTACAO:\n",
    "            indv = populacao[n]\n",
    "            populacao[n] = func_mutacao(indv)\n",
    "        \n",
    "print()\n",
    "print(\"População Selecionada\")\n",
    "print(populacao)"
   ]
  },
  {
   "cell_type": "markdown",
   "metadata": {},
   "source": [
    "## Conclusão\n",
    "Foi possível criar um algoritmo genético que seleciona individuos com uma métrica melhor, no entanto, os parametros não foram otimizados o suficiente para considerar que ele resolve o problema e encontra o \"melhor\" inidivíduo todas as vezes. Portanto, podemos considerar esse algoritmo como sendo probabilistico.\n"
   ]
  },
  {
   "cell_type": "markdown",
   "metadata": {},
   "source": [
    "## Playground\n",
    "\n"
   ]
  },
  {
   "cell_type": "code",
   "execution_count": null,
   "metadata": {},
   "outputs": [],
   "source": []
  }
 ],
 "metadata": {
  "kernelspec": {
   "display_name": "ilumpy",
   "language": "python",
   "name": "ilumpy"
  },
  "language_info": {
   "codemirror_mode": {
    "name": "ipython",
    "version": 3
   },
   "file_extension": ".py",
   "mimetype": "text/x-python",
   "name": "python",
   "nbconvert_exporter": "python",
   "pygments_lexer": "ipython3",
   "version": "3.9.7"
  },
  "org": null
 },
 "nbformat": 4,
 "nbformat_minor": 4
}
