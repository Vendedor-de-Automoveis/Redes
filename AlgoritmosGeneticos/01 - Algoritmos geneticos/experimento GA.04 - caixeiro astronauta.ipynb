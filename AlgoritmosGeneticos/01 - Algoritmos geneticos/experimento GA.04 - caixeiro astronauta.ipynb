{
 "cells": [
  {
   "cell_type": "markdown",
   "metadata": {},
   "source": [
    "Caixeiro astronauta\n",
    "========================================\n",
    "\n"
   ]
  },
  {
   "cell_type": "markdown",
   "metadata": {},
   "source": [
    "## Introdução\n",
    "\n"
   ]
  },
  {
   "cell_type": "markdown",
   "metadata": {},
   "source": [
    "Recomenda-se ver os exeperimentos A.06 e GA.03 antes do presente.\n",
    "\n",
    "O caixeiro viajante está mais bem sucedido do que nunca! Seu esforço ao percorrer a menor distância entre cidades trouxe frutos, como uma sociedade com a petrobrás e agora expandido seus negócios para além do planeta terra. Há um porém: a petrobrás não fornece combustível para foguetes, portanto, voltamos a um problema de otimização. Devemos aínda ter em mente as restrições para quanto mutação e reprodução, mas agora, temos 3 coodernadas cartesianas.\n",
    "\n"
   ]
  },
  {
   "cell_type": "markdown",
   "metadata": {},
   "source": [
    "## Objetivo\n",
    "\n"
   ]
  },
  {
   "cell_type": "markdown",
   "metadata": {},
   "source": [
    "Encontre o caminho de menor distância no problema do caixeiro viajante astronauta. Considere neste problema número $n\\geq 7$ de coordenadas $(x,y,z)$ de estações espaciais. Use as mesmas regras dos problemas usuais do caixeiro viajante.\n",
    "\n",
    "O código abaixo é um gerador de coordenadas de cidades. Use ele caso queira.\n",
    "\n",
    "\n"
   ]
  },
  {
   "cell_type": "markdown",
   "metadata": {},
   "source": [
    "## Importações\n",
    "\n"
   ]
  },
  {
   "cell_type": "markdown",
   "metadata": {},
   "source": [
    "Todos os comandos de `import` devem estar dentro desta seção.\n",
    "\n"
   ]
  },
  {
   "cell_type": "code",
   "execution_count": 1,
   "metadata": {},
   "outputs": [],
   "source": [
    "import random\n",
    "from itertools import permutations\n",
    "\n",
    "from funcoes import cria_cidades_em_r3 #Função Genoma\n",
    "from funcoes import populacao_inicial_cv as cria_populacao_inicial #Função População\n",
    "from funcoes import funcao_objetivo_pop_ca #Função Objetivo População\n",
    "from funcoes import funcao_objetivo_ca #Função objetivo\n",
    "from funcoes import selecao_torneio_min as funcao_selecao #Função Seleção\n",
    "from funcoes import cruzamento_ordenado as funcao_cruzamento #Função Cruzamento\n",
    "from funcoes import mutacao_de_troca as funcao_mutacao #Função Mutação"
   ]
  },
  {
   "cell_type": "markdown",
   "metadata": {},
   "source": [
    "## Códigos e discussão\n",
    "\n"
   ]
  },
  {
   "cell_type": "markdown",
   "metadata": {},
   "source": [
    "### Definindo o problema"
   ]
  },
  {
   "cell_type": "markdown",
   "metadata": {},
   "source": [
    "Nessa seção, definimos as constantes necessárias para a resolução do problema, bem como as funções locais. Funções locais podem ser descritas como aquelas que dizem respeito ao problema a ser resolvido, mas estão definidas em outro local e com outro nome."
   ]
  },
  {
   "cell_type": "code",
   "execution_count": 2,
   "metadata": {},
   "outputs": [],
   "source": [
    "### CONSTANTES\n",
    "\n",
    "# relacionadas à busca\n",
    "TAMANHO_POP = 6 #Tamanho da população do problema\n",
    "NUM_GERACOES = 10 #Número de gerações a serem consideradas antes de apresentar o resultado\n",
    "CHANCE_CRUZAMENTO = 0.6 #Chance de ocorrer um cruzamento entre dois indivíduos\n",
    "CHANCE_MUTACAO = 0.05 #Chance de ocorrer uma mutação em um indivíduo\n",
    "NUM_COMBATENTES_NO_TORNEIO = 3 #Número de combatentes no torneio de seleção\n",
    "\n",
    "# relacionadas ao problema a ser resolvido\n",
    "NUMERO_DE_CIDADES = 7 #Quantas cidades o caixeiro irá visitar\n",
    "CIDADES = cria_cidades_em_r3(NUMERO_DE_CIDADES) #Definindo o \"mapa\" contendo as cidades que deverão ser visitadas"
   ]
  },
  {
   "cell_type": "code",
   "execution_count": 3,
   "metadata": {},
   "outputs": [],
   "source": [
    "### Funções locais\n",
    "\n",
    "def funcao_objetivo_pop(populacao):\n",
    "    \"\"\"\n",
    "    Referir-se ao arquivo 'funcoes.py' para verificar o funcionamento da função\n",
    "    \"\"\"\n",
    "    return funcao_objetivo_pop_ca(populacao, CIDADES)\n",
    "\n",
    "def funcao_objetivo_individuo(individuo):\n",
    "    \"\"\"\n",
    "    Referir-se ao arquivo 'funcoes.py' para verificar o funcionamento da função\n",
    "    \"\"\"\n",
    "    return funcao_objetivo_ca(individuo, CIDADES)"
   ]
  },
  {
   "cell_type": "code",
   "execution_count": null,
   "metadata": {},
   "outputs": [],
   "source": []
  },
  {
   "cell_type": "markdown",
   "metadata": {},
   "source": [
    "### Busca por algoritmo genético\n"
   ]
  },
  {
   "cell_type": "markdown",
   "metadata": {},
   "source": [
    "Aqui, teremos a busca do indivíduo que resolve o problema de maneira satisfatória por meio de algoritmos genéticos. Para mais informações de como as funções funcionam, verifique a partir da seção de importações qual o tipo de função que deseja ler a respeito; em seguida vá para funcoes.py, onde estará o código e uma breve descrição."
   ]
  },
  {
   "cell_type": "code",
   "execution_count": 4,
   "metadata": {},
   "outputs": [],
   "source": [
    "\n",
    "populacao = cria_populacao_inicial(TAMANHO_POP, CIDADES)\n",
    "\n",
    "melhor_fitness_ja_visto = float(\"inf\")\n",
    "\n",
    "for n in range(NUM_GERACOES):\n",
    "    \n",
    "    # Seleção\n",
    "    fitness = funcao_objetivo_pop(populacao)\n",
    "    populacao = funcao_selecao(populacao, fitness)\n",
    "    \n",
    "    # Cruzamento\n",
    "    pais = populacao[0::2]\n",
    "    maes = populacao[1::2]\n",
    "    \n",
    "    contador = 0\n",
    "    \n",
    "    for pai, mae in zip(pais, maes):\n",
    "        if random.random() <= CHANCE_CRUZAMENTO:\n",
    "            filho1, filho2 = funcao_cruzamento(pai, mae)\n",
    "            populacao[contador] = filho1\n",
    "            populacao[contador + 1] = filho2\n",
    "        \n",
    "        contador = contador + 2   \n",
    "        \n",
    "    # Mutação\n",
    "    for n in range(len(populacao)):\n",
    "        if random.random() <= CHANCE_MUTACAO:\n",
    "            individuo = populacao[n]\n",
    "            populacao[n] = funcao_mutacao(individuo)            \n",
    "            \n",
    "    # melhor individuo já visto até agora\n",
    "    fitness = funcao_objetivo_pop(populacao)\n",
    "    menor_fitness = min(fitness)\n",
    "    if menor_fitness < melhor_fitness_ja_visto:        \n",
    "        posicao = fitness.index(menor_fitness)\n",
    "        melhor_individuo_ja_visto = populacao[posicao]\n",
    "        melhor_fitness_ja_visto = menor_fitness    "
   ]
  },
  {
   "cell_type": "markdown",
   "metadata": {},
   "source": [
    "Agora, para poder obter uma métrica determinística para quanto qual era o melhor resultado possível, realizaremos uma busca exaustiva através de permutações. Para problemas longos, deixe a célula abaixo dentro de uma dockstring ou a mude para markdown; caso contrário, tomará muito poder de processamento. "
   ]
  },
  {
   "cell_type": "code",
   "execution_count": 5,
   "metadata": {},
   "outputs": [],
   "source": [
    "# Busca testando todas as permutações\n",
    "\n",
    "melhor_fitness_ever = float(\"inf\")\n",
    "\n",
    "# testando todas as permutações possíveis\n",
    "for caminho in permutations(list(CIDADES.keys())):\n",
    "    distancia = funcao_objetivo_individuo(caminho)\n",
    "    if distancia < melhor_fitness_ever:\n",
    "        melhor_fitness_ever = distancia\n",
    "        melhor_resposta_ever = caminho"
   ]
  },
  {
   "cell_type": "markdown",
   "metadata": {},
   "source": [
    "Finalmente, podemos comparar os resultados e verificar se o nosso algoritmo genético está entregando um indivíduo razoável. Caso contrário, aumente o número de gerações. Alterações nos demais parâmetros devem ser feitas com muita cautela. O número de indivíduos, por exemplo, pode aumentar as chances de entregar o melhor indivíduo, por puro acaso dele estar na população inicial, caso a alteração mude a ordem de grandeza."
   ]
  },
  {
   "cell_type": "code",
   "execution_count": 6,
   "metadata": {},
   "outputs": [
    {
     "name": "stdout",
     "output_type": "stream",
     "text": [
      "\n",
      "Melhor individuo obtido por algoritmos genéticos:\n",
      "['Cidade 3', 'Cidade 0', 'Cidade 1', 'Cidade 5', 'Cidade 6', 'Cidade 4', 'Cidade 2'] com distância: 2.6329112462258637\n",
      "\n",
      "Melhor individuo obtido por busca exaustiva:\n",
      "('Cidade 0', 'Cidade 2', 'Cidade 6', 'Cidade 4', 'Cidade 5', 'Cidade 1', 'Cidade 3') com distância: 2.5367573743010263\n"
     ]
    }
   ],
   "source": [
    "# Checando os resultados\n",
    "\n",
    "print()\n",
    "print(\"Melhor individuo obtido por algoritmos genéticos:\")\n",
    "print(melhor_individuo_ja_visto, \"com distância:\", melhor_fitness_ja_visto)\n",
    "\n",
    "print()\n",
    "print(\"Melhor individuo obtido por busca exaustiva:\")\n",
    "print(melhor_resposta_ever, \"com distância:\", melhor_fitness_ever)"
   ]
  },
  {
   "cell_type": "markdown",
   "metadata": {},
   "source": [
    "Acima, o último teste efetuado demonstra que o algoritmo está funcionando e entregando um indivíduo razoável, quando comparado com a busca exaustiva."
   ]
  },
  {
   "cell_type": "markdown",
   "metadata": {},
   "source": [
    "## Conclusão\n",
    "\n"
   ]
  },
  {
   "cell_type": "markdown",
   "metadata": {},
   "source": [
    "Por meio deste notebook, resolvemos o probroblema do Caixeiro Astronauta através de um Algoritmo Genético. Ademais, observamos como simples alterações nas variáveis de um problema já conhecido demandam simples alterações no código já escrito. A maior parte das funções, conforme informado no arquivo funcoes.py, são reaproveitadas na íntegra do problema do caixeiro viajante (original); as demais funções apenas demanadaram simples aterações para poder se adaptar ao fato das cidades estarem em R3 no problema do Caixeiro Astronauta.\n",
    "\n",
    "Ao comparar o resultado com a busca exaustiva, para um problema com 7 cidades, podemos observar que a resolução está entregando indivíduos razoáveis. No entanto, essa resolução é probabilística, ou seja, não é garantido de que no final você terá o melhor indivíduo possível."
   ]
  },
  {
   "cell_type": "markdown",
   "metadata": {},
   "source": [
    "## Referências consultadas\n",
    "\n"
   ]
  },
  {
   "cell_type": "markdown",
   "metadata": {},
   "source": [
    "Cassar, Daniel R. AULA_REDES. Campinas, github. Disponível em: https://github.com/drcassar/aula_redes/tree/main. Acesso: 07 de Julho de 2023 às 16h33."
   ]
  },
  {
   "cell_type": "markdown",
   "metadata": {},
   "source": [
    "## Playground\n",
    "\n"
   ]
  },
  {
   "cell_type": "code",
   "execution_count": null,
   "metadata": {},
   "outputs": [],
   "source": []
  }
 ],
 "metadata": {
  "kernelspec": {
   "display_name": "ilumpy",
   "language": "python",
   "name": "ilumpy"
  },
  "language_info": {
   "codemirror_mode": {
    "name": "ipython",
    "version": 3
   },
   "file_extension": ".py",
   "mimetype": "text/x-python",
   "name": "python",
   "nbconvert_exporter": "python",
   "pygments_lexer": "ipython3",
   "version": "3.9.7"
  },
  "org": null
 },
 "nbformat": 4,
 "nbformat_minor": 4
}
