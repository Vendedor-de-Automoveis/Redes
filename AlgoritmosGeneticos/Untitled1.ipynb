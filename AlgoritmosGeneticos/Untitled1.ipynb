{
 "cells": [
  {
   "cell_type": "code",
   "execution_count": 1,
   "id": "0c8c94d2-f9b9-4a39-9ae1-d9d3a218d5e0",
   "metadata": {},
   "outputs": [],
   "source": [
    "import numpy as np\n",
    "import math\n",
    "import matplotlib.pyplot as plt\n",
    "import matplotlib.ticker as tck"
   ]
  },
  {
   "cell_type": "code",
   "execution_count": 2,
   "id": "53960212-bd98-4152-95f1-f4466ad7a9a3",
   "metadata": {},
   "outputs": [],
   "source": [
    "def func_nirso():\n",
    "    lista = []\n",
    "    nirso = []\n",
    "    x= np.arange(1,np.pi,0.01)\n",
    "    for i in range(1, 314):\n",
    "        lista.append(i)\n",
    "    k = 0,25*math.sin(x[i])**2\n",
    "    nirso.append(k)\n",
    "    return nirso"
   ]
  },
  {
   "cell_type": "code",
   "execution_count": 22,
   "id": "f689ba49-63e8-42a6-b39b-f820eba76ecb",
   "metadata": {},
   "outputs": [],
   "source": [
    "    lista = []\n",
    "    nirso = []\n",
    "    angulo = []\n",
    "    x= np.arange(0,np.pi,0.01)\n",
    "    for i in range(0, 314):\n",
    "        angulo.append(i/314)\n",
    "        lista.append(i)\n",
    "        k = 0.25*math.sin(x[i])**2\n",
    "        nirso.append(k)"
   ]
  },
  {
   "cell_type": "code",
   "execution_count": 23,
   "id": "78bab0e9-11a1-49ae-940d-79633cff2d4c",
   "metadata": {},
   "outputs": [
    {
     "data": {
      "text/plain": [
       "[<matplotlib.lines.Line2D at 0x1fefa4301f0>]"
      ]
     },
     "execution_count": 4,
     "metadata": {},
     "output_type": "execute_result"
    },
    {
     "data": {
      "image/png": "[encoded data removed]",
      "text/plain": [
       "<Figure size 432x288 with 1 Axes>"
      ]
     },
     "metadata": {
      "needs_background": "light"
     },
     "output_type": "display_data"
    }
   ],
   "source": [
    "plt.plot(angulo,nirso)"
   ]
  },
  {
   "cell_type": "code",
   "execution_count": null,
   "id": "32cd1a97-f2e0-44a4-8f09-6016896af0dc",
   "metadata": {},
   "outputs": [],
   "source": [
    "f,ax=plt.subplots(figsize=(5,5), dpi=100)\n",
    "ax.xaxis.set_major_formatter(tck.FormatStrFormatter('%g $\\pi$'))\n",
    "ax.xaxis.set_major_locator(tck.MultipleLocator(base=0.5))\n",
    "\n",
    "ax.plot(angulo,nirso)\n",
    "\n",
    "plt.style.use(\"seaborn\")\n",
    "plt.xlabel('Ângulo (\\u03B8)', size=15)\n",
    "plt.ylabel('Probabilidade', size=15)\n",
    "plt.title(\"Probabilidade de z<-| em função de \\u03B8\", size=15)\n",
    "\n",
    "plt.show()"
   ]
  },
  {
   "cell_type": "code",
   "execution_count": 43,
   "id": "286a5e47-a783-40d3-952a-94a7de49408c",
   "metadata": {},
   "outputs": [
    {
     "name": "stdout",
     "output_type": "stream",
     "text": [
      "p\n"
     ]
    }
   ],
   "source": [
    "print(u'\\u0070') "
   ]
  },
  {
   "cell_type": "code",
   "execution_count": null,
   "id": "492e668c-1fa5-4816-9730-6b5d7b5f755b",
   "metadata": {},
   "outputs": [],
   "source": []
  }
 ],
 "metadata": {
  "kernelspec": {
   "display_name": "ilumpy",
   "language": "python",
   "name": "ilumpy"
  },
  "language_info": {
   "codemirror_mode": {
    "name": "ipython",
    "version": 3
   },
   "file_extension": ".py",
   "mimetype": "text/x-python",
   "name": "python",
   "nbconvert_exporter": "python",
   "pygments_lexer": "ipython3",
   "version": "3.9.7"
  }
 },
 "nbformat": 4,
 "nbformat_minor": 5
}
