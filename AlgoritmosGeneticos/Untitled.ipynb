{
 "cells": [
  {
   "cell_type": "code",
   "execution_count": 30,
   "id": "b804003c-cc4a-4dc9-b0e7-a99824c3e9ce",
   "metadata": {},
   "outputs": [],
   "source": [
    "def func_tabela(T,composto):\n",
    "    if composto == \"ciclohexano\":\n",
    "        \n",
    "        for T in range(293.06, 315.69):\n",
    "            A= 3.96988\n",
    "            B= 1203.526\n",
    "            C= -50.287\n",
    "        return A, B, C\n",
    "        \n",
    "         for T in range(315.70, 353.90):\n",
    "            A= 3.17125\n",
    "            B= 780.637\n",
    "            C= -107.29\n",
    "        return A, B, C\n",
    "    \n",
    "         for T in range(353.01, 523):\n",
    "            A= 4.13983\n",
    "            B= 1316.554\n",
    "            C= -35.581\n",
    "        return A, B, C\n",
    "    "
   ]
  },
  {
   "cell_type": "code",
   "execution_count": 31,
   "id": "4bd237ec-b0dc-4d99-8555-a2f5006a9f98",
   "metadata": {},
   "outputs": [],
   "source": [
    "composto = \"tolueno\"\n",
    "T = 288"
   ]
  },
  {
   "cell_type": "code",
   "execution_count": 32,
   "id": "4d4d45da-961d-4fcf-9c5b-4b9849d2d75b",
   "metadata": {},
   "outputs": [
    {
     "data": {
      "text/plain": [
       "(4.23679, 1426.448, -45.957)"
      ]
     },
     "execution_count": 32,
     "metadata": {},
     "output_type": "execute_result"
    }
   ],
   "source": [
    "func_tabela(T,composto)"
   ]
  },
  {
   "cell_type": "code",
   "execution_count": null,
   "id": "ffa548df-0012-421a-9f5b-30743da53051",
   "metadata": {},
   "outputs": [],
   "source": []
  }
 ],
 "metadata": {
  "kernelspec": {
   "display_name": "ilumpy",
   "language": "python",
   "name": "ilumpy"
  },
  "language_info": {
   "codemirror_mode": {
    "name": "ipython",
    "version": 3
   },
   "file_extension": ".py",
   "mimetype": "text/x-python",
   "name": "python",
   "nbconvert_exporter": "python",
   "pygments_lexer": "ipython3",
   "version": "3.9.7"
  }
 },
 "nbformat": 4,
 "nbformat_minor": 5
}
